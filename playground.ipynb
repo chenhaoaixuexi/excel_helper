{
 "cells": [
  {
   "cell_type": "code",
   "execution_count": 99,
   "metadata": {},
   "outputs": [
    {
     "name": "stdout",
     "output_type": "stream",
     "text": [
      "open file:  ./asset/2021.xlsx.2021\n"
     ]
    }
   ],
   "source": [
    "import pandas as pd\n",
    "path = \"./asset/2021.xlsx\"\n",
    "sheet = \"2021\"\n",
    "\n",
    "print(f\"open file:  {path}.{sheet}\")\n",
    "# 读取Excel文件\n",
    "df_pipei = pd.read_excel(path,sheet_name=\"匹配\")\n",
    "df_zcpm = pd.read_excel(path,sheet_name=\"资产排名\")\n"
   ]
  },
  {
   "cell_type": "code",
   "execution_count": 67,
   "metadata": {},
   "outputs": [
    {
     "name": "stdout",
     "output_type": "stream",
     "text": [
      "   证券代码    贷款银行        贷款金额上限\n",
      "0  2030    浦发银行   1500.000000\n",
      "1  2030    招商银行  10000.000000\n",
      "2  2054    广发银行  31428.571429\n",
      "3  2054  中国民生银行  31428.571429\n",
      "4  2054    工商银行  31428.571429\n",
      "5  2054    建设银行  31428.571429\n",
      "6  2054    浦发银行  31428.571429\n",
      "7  2054    招商银行  31428.571429\n",
      "8  2054    农业银行  31428.571429\n",
      "     银行         资产\n",
      "0  工商银行  351713.83\n",
      "1  建设银行  302539.79\n",
      "2  农业银行  290691.55\n",
      "3  中国银行  267224.08\n",
      "4  邮储银行  125878.73\n",
      "5  交通银行  116657.57\n",
      "6  招商银行   92490.21\n",
      "7  兴业银行   86030.24\n",
      "8  浦发银行   81367.57\n"
     ]
    }
   ],
   "source": [
    "print(df_pipei.iloc[:9,:])\n",
    "print(df_zcpm.iloc[:9,:])"
   ]
  },
  {
   "cell_type": "code",
   "execution_count": 89,
   "metadata": {},
   "outputs": [
    {
     "name": "stdout",
     "output_type": "stream",
     "text": [
      "res: 招商银行\n"
     ]
    }
   ],
   "source": [
    "import pandas as pd\n",
    "data_zs= df_zcpm.loc[df_zcpm[\"银行\"]==\"招商银行\", \"资产\"].values[0]\n",
    "# # 创建一个 DataFrame\n",
    "# # 计算招商银行资产与其他银行资产的差\n",
    "diff = df_zcpm[\"资产\"] - data_zs\n",
    "\n",
    "# # 找到与招商银行资产最相近的银行\n",
    "closest_bank = df_zcpm.loc[diff.abs().idxmin(), \"银行\"]\n",
    "print(f\"res: {closest_bank}\")\n",
    "\n",
    "# # 打印结果\n",
    "# print(f\"和招商银行资产最相近的银行是：{closest_bank}\")\n"
   ]
  },
  {
   "cell_type": "code",
   "execution_count": 118,
   "metadata": {},
   "outputs": [
    {
     "name": "stdout",
     "output_type": "stream",
     "text": [
      "res: 银行        兴业银行\n",
      "资产    86030.24\n",
      "Name: 7, dtype: object\n"
     ]
    },
    {
     "data": {
      "text/plain": [
       "银行        兴业银行\n",
       "资产    86030.24\n",
       "Name: 7, dtype: object"
      ]
     },
     "execution_count": 118,
     "metadata": {},
     "output_type": "execute_result"
    }
   ],
   "source": [
    "def findCloest(bankName,df):\n",
    "    data_zs= df.loc[df[\"银行\"]==bankName, \"资产\"].values[0]\n",
    "\n",
    "    df=df[df[\"银行\"]!=bankName]\n",
    "    # # 创建一个 DataFrame\n",
    "    # # 计算招商银行资产与其他银行资产的差\n",
    "    diff = df[\"资产\"] - data_zs\n",
    "\n",
    "    # # 找到与招商银行资产最相近的银行\n",
    "    closest_bank = df.loc[diff.abs().idxmin()]\n",
    "    print(f\"res: {closest_bank}\")\n",
    "    return closest_bank\n",
    "\n",
    "findCloest(\"招商银行\",df_zcpm)"
   ]
  },
  {
   "cell_type": "code",
   "execution_count": 116,
   "metadata": {},
   "outputs": [
    {
     "name": "stdout",
     "output_type": "stream",
     "text": [
      "res: 银行        兴业银行\n",
      "资产    86030.24\n",
      "Name: 7, dtype: object\n"
     ]
    },
    {
     "data": {
      "text/plain": [
       "银行        兴业银行\n",
       "资产    86030.24\n",
       "Name: 7, dtype: object"
      ]
     },
     "execution_count": 116,
     "metadata": {},
     "output_type": "execute_result"
    }
   ],
   "source": [
    "findCloest(\"招商银行\",df_zcpm)"
   ]
  }
 ],
 "metadata": {
  "kernelspec": {
   "display_name": "Python 3 (ipykernel)",
   "language": "python",
   "name": "python3"
  },
  "language_info": {
   "codemirror_mode": {
    "name": "ipython",
    "version": 3
   },
   "file_extension": ".py",
   "mimetype": "text/x-python",
   "name": "python",
   "nbconvert_exporter": "python",
   "pygments_lexer": "ipython3",
   "version": "3.11.3"
  }
 },
 "nbformat": 4,
 "nbformat_minor": 2
}
