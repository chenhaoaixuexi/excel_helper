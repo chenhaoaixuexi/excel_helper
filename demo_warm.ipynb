{
 "cells": [
  {
   "cell_type": "code",
   "execution_count": 1,
   "id": "a8d8d8dc",
   "metadata": {},
   "outputs": [],
   "source": [
    "path = \"/Users/apple/Work/meituan/game-battersheep-res/excel/Game2048ExtraReward.xlsx\"\n",
    "sheet = \"Game2048ExtraReward\""
   ]
  },
  {
   "cell_type": "code",
   "execution_count": 2,
   "id": "a1e8f192",
   "metadata": {},
   "outputs": [
    {
     "name": "stdout",
     "output_type": "stream",
     "text": [
      "open file:  /Users/apple/Work/meituan/game-battersheep-res/excel/Game2048ExtraReward.xlsx.Game2048ExtraReward\n"
     ]
    }
   ],
   "source": [
    "import pandas as pd\n",
    "\n",
    "print(f\"open file:  {path}.{sheet}\")\n",
    "# 读取Excel文件\n",
    "df = pd.read_excel(path)"
   ]
  },
  {
   "cell_type": "code",
   "execution_count": 32,
   "id": "35a4828a",
   "metadata": {},
   "outputs": [
    {
     "name": "stdout",
     "output_type": "stream",
     "text": [
      "   对应的格子id 价格类型    价格\n",
      "3        1    2     0\n",
      "4        2    2     0\n",
      "5        3    2     0\n",
      "6        4    2     0\n",
      "7        5    2     0\n",
      "8        6    2     0\n",
      "9        7    2     0\n",
      "10       8    2     0\n",
      "11       9    2     0\n",
      "12      10    2     5\n",
      "13      11    2    10\n",
      "14      12    2    20\n",
      "15      13    2   100\n",
      "16      14    2  1000\n",
      "17      15    2  3888\n"
     ]
    }
   ],
   "source": [
    "df.keys()[0]\n",
    "# df['对应的格子id\"']\n",
    "\n",
    "datas= df.iloc[3:,:]\n",
    "print(datas)"
   ]
  },
  {
   "cell_type": "code",
   "execution_count": 33,
   "id": "642b6e71",
   "metadata": {},
   "outputs": [
    {
     "name": "stdout",
     "output_type": "stream",
     "text": [
      "{1, 2, 3, 4, 5, 6, 7, 8, 9, 10, 11, 12, 13, 14, 15}\n",
      "True\n",
      "True\n"
     ]
    }
   ],
   "source": [
    "# SET\n",
    "\n",
    "datas.iloc[0]\n",
    "values = df.iloc[3:, :].values;\n",
    "# print(values)\n",
    "# 第一列\n",
    "data_set = set(values[:,0])\n",
    "print(data_set)\n",
    "\n",
    "print(1 in data_set)\n",
    "data_set.add(16)\n",
    "print(16 in data_set)\n"
   ]
  },
  {
   "cell_type": "code",
   "execution_count": 41,
   "id": "769e757f",
   "metadata": {},
   "outputs": [
    {
     "data": {
      "text/html": [
       "<div>\n",
       "<style scoped>\n",
       "    .dataframe tbody tr th:only-of-type {\n",
       "        vertical-align: middle;\n",
       "    }\n",
       "\n",
       "    .dataframe tbody tr th {\n",
       "        vertical-align: top;\n",
       "    }\n",
       "\n",
       "    .dataframe thead th {\n",
       "        text-align: right;\n",
       "    }\n",
       "</style>\n",
       "<table border=\"1\" class=\"dataframe\">\n",
       "  <thead>\n",
       "    <tr style=\"text-align: right;\">\n",
       "      <th></th>\n",
       "      <th>对应的格子id</th>\n",
       "      <th>价格类型</th>\n",
       "      <th>价格</th>\n",
       "    </tr>\n",
       "  </thead>\n",
       "  <tbody>\n",
       "    <tr>\n",
       "      <th>6</th>\n",
       "      <td>4</td>\n",
       "      <td>2</td>\n",
       "      <td>0</td>\n",
       "    </tr>\n",
       "    <tr>\n",
       "      <th>7</th>\n",
       "      <td>5</td>\n",
       "      <td>2</td>\n",
       "      <td>0</td>\n",
       "    </tr>\n",
       "    <tr>\n",
       "      <th>8</th>\n",
       "      <td>6</td>\n",
       "      <td>2</td>\n",
       "      <td>0</td>\n",
       "    </tr>\n",
       "    <tr>\n",
       "      <th>9</th>\n",
       "      <td>7</td>\n",
       "      <td>2</td>\n",
       "      <td>0</td>\n",
       "    </tr>\n",
       "    <tr>\n",
       "      <th>10</th>\n",
       "      <td>8</td>\n",
       "      <td>2</td>\n",
       "      <td>0</td>\n",
       "    </tr>\n",
       "    <tr>\n",
       "      <th>11</th>\n",
       "      <td>9</td>\n",
       "      <td>2</td>\n",
       "      <td>0</td>\n",
       "    </tr>\n",
       "    <tr>\n",
       "      <th>12</th>\n",
       "      <td>10</td>\n",
       "      <td>2</td>\n",
       "      <td>5</td>\n",
       "    </tr>\n",
       "    <tr>\n",
       "      <th>13</th>\n",
       "      <td>11</td>\n",
       "      <td>2</td>\n",
       "      <td>10</td>\n",
       "    </tr>\n",
       "    <tr>\n",
       "      <th>14</th>\n",
       "      <td>12</td>\n",
       "      <td>2</td>\n",
       "      <td>20</td>\n",
       "    </tr>\n",
       "    <tr>\n",
       "      <th>15</th>\n",
       "      <td>13</td>\n",
       "      <td>2</td>\n",
       "      <td>100</td>\n",
       "    </tr>\n",
       "    <tr>\n",
       "      <th>16</th>\n",
       "      <td>14</td>\n",
       "      <td>2</td>\n",
       "      <td>1000</td>\n",
       "    </tr>\n",
       "    <tr>\n",
       "      <th>17</th>\n",
       "      <td>15</td>\n",
       "      <td>2</td>\n",
       "      <td>3888</td>\n",
       "    </tr>\n",
       "  </tbody>\n",
       "</table>\n",
       "</div>"
      ],
      "text/plain": [
       "   对应的格子id 价格类型    价格\n",
       "6        4    2     0\n",
       "7        5    2     0\n",
       "8        6    2     0\n",
       "9        7    2     0\n",
       "10       8    2     0\n",
       "11       9    2     0\n",
       "12      10    2     5\n",
       "13      11    2    10\n",
       "14      12    2    20\n",
       "15      13    2   100\n",
       "16      14    2  1000\n",
       "17      15    2  3888"
      ]
     },
     "execution_count": 41,
     "metadata": {},
     "output_type": "execute_result"
    }
   ],
   "source": [
    "datas.iloc[3:,:]"
   ]
  },
  {
   "cell_type": "code",
   "execution_count": 54,
   "metadata": {},
   "outputs": [
    {
     "name": "stdout",
     "output_type": "stream",
     "text": [
      "True\n",
      "False\n",
      "[1 2 0]\n"
     ]
    }
   ],
   "source": [
    "# MAP\n",
    "datas.iloc[3:,:]\n",
    "\n",
    "# 创建一个空字典\n",
    "id_map = {}\n",
    "\n",
    "# 遍历 datas.iloc[3:,:] 的结果\n",
    "for row in datas.iloc[0:,:].values:\n",
    "    # print(row)\n",
    "    # 获取行号\n",
    "    row_id = row[0]\n",
    "\n",
    "    # 创建一个空字典\n",
    "    # 将行字典添加到 id_map 中\n",
    "    id_map[row_id] = row    \n",
    "\n",
    "# 打印 id_map\n",
    "print(12 in id_map)\n",
    "print(16 in id_map)\n",
    "print(list(id_map.values())[0])\n"
   ]
  },
  {
   "cell_type": "code",
   "execution_count": null,
   "id": "bfc35feb",
   "metadata": {},
   "outputs": [],
   "source": [
    "\n",
    "# 选择要输出的sheet\n",
    "sheet = df[sheet]\n",
    "\n",
    "# 遍历每一行\n",
    "for i in range(sheet.shape[0]):\n",
    "    # 输出每一行的内容\n",
    "    print(sheet.iloc[i])\n"
   ]
  }
 ],
 "metadata": {
  "kernelspec": {
   "display_name": "Python 3 (ipykernel)",
   "language": "python",
   "name": "python3"
  },
  "language_info": {
   "codemirror_mode": {
    "name": "ipython",
    "version": 3
   },
   "file_extension": ".py",
   "mimetype": "text/x-python",
   "name": "python",
   "nbconvert_exporter": "python",
   "pygments_lexer": "ipython3",
   "version": "3.11.3"
  }
 },
 "nbformat": 4,
 "nbformat_minor": 5
}
